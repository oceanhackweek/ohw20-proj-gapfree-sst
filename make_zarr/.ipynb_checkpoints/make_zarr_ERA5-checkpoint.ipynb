{
 "cells": [
  {
   "cell_type": "code",
   "execution_count": 1,
   "metadata": {},
   "outputs": [],
   "source": [
    "# filter some warning messages\n",
    "import warnings \n",
    "warnings.filterwarnings(\"ignore\") \n",
    "\n",
    "#libraries\n",
    "import datetime as dt\n",
    "import xarray as xr\n",
    "import fsspec\n",
    "import s3fs\n",
    "from matplotlib import pyplot as plt\n",
    "import numpy as np\n",
    "import pandas as pd\n",
    "# make datasets display nicely\n",
    "xr.set_options(display_style=\"html\")  \n",
    "\n",
    "#magic fncts #put static images of your plot embedded in the notebook\n",
    "%matplotlib inline  \n",
    "plt.rcParams['figure.figsize'] = 12, 6\n",
    "%config InlineBackend.figure_format = 'retina' \n"
   ]
  },
  {
   "cell_type": "code",
   "execution_count": 2,
   "metadata": {},
   "outputs": [],
   "source": [
    "# Function to open ERA5 dataset from the s3 bucket\n",
    "def get_era5(var,lyr):\n",
    "    syr=str(lyr).zfill(4)\n",
    "    fs = s3fs.S3FileSystem(anon=True)\n",
    "    if var=='all':\n",
    "        file_location = fs.glob('s3://era5-pds/'+syr+'/*/*.nc')\n",
    "    else:\n",
    "        file_location = fs.glob('s3://era5-pds/'+syr+'/*/data/'+var+'*.nc')\n",
    "    file_ob = [fs.open(file) for file in file_location]        \n",
    "    ds=xr.open_mfdataset(file_ob,combine='nested',concat_dim='time0') \n",
    "    #ds['sea_surface_temperature']-=273.15\n",
    "    #ds['sea_surface_temperature'].attrs['units'] = '$^\\circ$C'\n",
    "    return ds"
   ]
  },
  {
   "cell_type": "code",
   "execution_count": null,
   "metadata": {},
   "outputs": [],
   "source": [
    "%%time\n",
    "\n",
    "lyr=1979\n",
    "\n",
    "ds = get_era5('sea_surface_temperature',lyr)\n",
    "\n",
    "ds"
   ]
  },
  {
   "cell_type": "code",
   "execution_count": null,
   "metadata": {},
   "outputs": [],
   "source": [
    "#ds = ds.resample(time0='1D').mean(keep_attrs=True,skipna=False)\n",
    "\n",
    "ds2 = ds.chunk({'lat':361,'lon':360,'time0':300})\n",
    "ds2"
   ]
  },
  {
   "cell_type": "code",
   "execution_count": null,
   "metadata": {},
   "outputs": [
    {
     "name": "stdout",
     "output_type": "stream",
     "text": [
      "starting  1979\n"
     ]
    }
   ],
   "source": [
    "%%time\n",
    "init = 0  #reset new data store\n",
    "\n",
    "file_location = 's3://ohw-bucket/era5sst'\n",
    "\n",
    "for lyr in range(1979,2020): #180:201 #6/28/2020-7/18/2020\n",
    "\n",
    "    print('starting ', lyr)\n",
    "\n",
    "    ds = get_era5('sea_surface_temperature',lyr)\n",
    "    ds = ds.resample(time0='1D').mean(keep_attrs=True,skipna=False)\n",
    "    ds = ds.chunk({'lat':361,'lon':360,'time0':300})\n",
    "    \n",
    "    print('writing zarr store')\n",
    "\n",
    "    if init == 0:\n",
    "        ds.to_zarr(file_location,consolidated=True) #, mode='w'\n",
    "        init = 1\n",
    "    else:\n",
    "        ds.to_zarr(file_location,consolidated=True,append_dim='time0')\n"
   ]
  },
  {
   "cell_type": "code",
   "execution_count": null,
   "metadata": {},
   "outputs": [],
   "source": []
  }
 ],
 "metadata": {
  "kernelspec": {
   "display_name": "Python 3",
   "language": "python",
   "name": "python3"
  },
  "language_info": {
   "codemirror_mode": {
    "name": "ipython",
    "version": 3
   },
   "file_extension": ".py",
   "mimetype": "text/x-python",
   "name": "python",
   "nbconvert_exporter": "python",
   "pygments_lexer": "ipython3",
   "version": "3.8.5"
  }
 },
 "nbformat": 4,
 "nbformat_minor": 4
}
