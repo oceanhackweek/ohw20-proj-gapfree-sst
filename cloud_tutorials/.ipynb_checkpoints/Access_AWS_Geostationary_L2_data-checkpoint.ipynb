{
 "cells": [
  {
   "cell_type": "markdown",
   "metadata": {},
   "source": [
    "# Accessing AWS L2 satellite data\n",
    "\n",
    "# GOES-16, GOES-17, and Himawari\n",
    "\n",
    "- Funding: Interagency Implementation and Advanced Concepts Team [IMPACT](https://earthdata.nasa.gov/esds/impact) for the Earth Science Data Systems (ESDS) program and AWS Public Dataset Program\n",
    "  \n",
    "### Credits: Tutorial development\n",
    "* [Dr. Chelle Gentemann](mailto:gentemann@faralloninstitute.org) -  [Twitter](https://twitter.com/ChelleGentemann)   - Farallon Institute\n",
    "\n",
    "### Here we will demonstrate some ways to access the different geostationary datasets on AWS:\n",
    "- AWS GOES sea surface temperatures  (L2)\n",
    "- AWS Himawari sea surface temperatures (L2)\n",
    "\n",
    "# How to find an AWS Public Dataset\n",
    "\n",
    "- Click here: [AWS Public Dataset](https://aws.amazon.com/opendata/)\n",
    "- Click on `Find public available data on AWS` button\n",
    "- Search for GOES\n",
    "- Select [GOES-16 and GOES-17](https://registry.opendata.aws/noaa-goes/) or [Himawari](https://registry.opendata.aws/noaa-himawari/)\n",
    "\n",
    "## NetCDF Geostationary data\n",
    "\n",
    "- When data is moved on the cloud in it's original format, it is still useful, but can be challenging to use because the older formats lack consolidated metadata.  \n",
    "\n",
    "- Info on the data is here -- GOES has a lot of different parameters and they are all stored in different files with names that are difficult to understand.  There are *80* different data products.  Himawari has 5 different products. This link lists them all and explains the different GOES Products [AWS info on GOES SST data](https://docs.opendata.aws/noaa-goes16/cics-readme.html).  \n",
    "\n",
    "- The GOES and Himawari data are stored in netCDF format.  There is a different for each of the 80 projects for year/day/hour.  To 'browse' s3: buckets to understand the directory and data structure:  [Explore S3 structure](https://noaa-goes16.s3.amazonaws.com/index.html).  The directory structure is `<Product>/<Year>/<Day of Year>/<Hour>/<Filename>`\n",
    "\n",
    "- In the code below we are going to create a function that searches for all products availalbe from each satellite then reads in a full day of data. The files netCDF, so opening a day takes about 3-4 minutes.  There are other ways you could write this function depending on what your analysis goals are, this is just one way to get some data in a reasonable amount of time. \n",
    "- This function uses:\n",
    "-- [`s3fs.S3FileSystem`](https://s3fs.readthedocs.io/en/latest/) which holds a connection with a s3 bucket and allows you to list files, etc.  \n",
    "-- [`xr.open_mfdataset`](http://xarray.pydata.org/en/stable/generated/xarray.open_mfdataset.html#xarray.open_mfdataset) opens a list of filenames and concatenates the data along the specified dimensions  \n",
    "\n",
    "### To run this notebook\n",
    "\n",
    "Code is in the cells that have <span style=\"color: blue;\">In [  ]:</span> to the left of the cell and have a colored background\n",
    "\n",
    "To run the code:\n",
    "- option 1) click anywhere in the cell, then hold `shift` down and press `Enter`\n",
    "- option 2) click on the Run button at the top of the page in the dashboard\n",
    "\n",
    "Remember:\n",
    "- to insert a new cell below press `Esc` then `b`\n",
    "- to delete a cell press `Esc` then `dd`\n",
    "\n",
    "### First start by importing libraries\n"
   ]
  },
  {
   "cell_type": "code",
   "execution_count": null,
   "metadata": {},
   "outputs": [],
   "source": [
    "# filter some warning messages\n",
    "import warnings \n",
    "warnings.filterwarnings(\"ignore\") \n",
    "\n",
    "#libraries\n",
    "import datetime as dt\n",
    "import xarray as xr\n",
    "import fsspec\n",
    "import s3fs\n",
    "from matplotlib import pyplot as plt\n",
    "# make datasets display nicely\n",
    "xr.set_options(display_style=\"html\")  \n",
    "import panel as pn\n",
    "pn.extension()\n",
    "\n",
    "#magic fncts #put static images of your plot embedded in the notebook\n",
    "%matplotlib inline  \n",
    "plt.rcParams['figure.figsize'] = 12, 6\n",
    "%config InlineBackend.figure_format = 'retina' "
   ]
  },
  {
   "cell_type": "markdown",
   "metadata": {},
   "source": [
    "## Create functions for the drop down menus and reading the data"
   ]
  },
  {
   "cell_type": "code",
   "execution_count": null,
   "metadata": {},
   "outputs": [],
   "source": [
    "dir_base={'goes-east':'s3://noaa-goes16/','goes-west':'s3://noaa-goes17/','himawari':'s3://noaa-himawari8/'}\n",
    "\n",
    "#file list of files for geo satellite selected\n",
    "def prod_select(geo_sat):\n",
    "    s3_base = dir_base[geo_sat]\n",
    "    fs = s3fs.S3FileSystem(anon=True) #connect to s3 bucket!\n",
    "    file_location = fs.glob(s3_base+'*-L2-*')\n",
    "    ipos=file_location[0].find('/')\n",
    "    file_types = [file[ipos+1:] for file in file_location]\n",
    "    vardict = file_types\n",
    "    return vardict\n",
    "\n",
    "#get list of daily files\n",
    "def get_geo_filenames(sat,geo_product,lyr,idyjl):\n",
    "    # arguments\n",
    "    # sat, geo_product  =   satellite / product\n",
    "    # lyr,idyjl         =   year, idyjl day of year\n",
    "    \n",
    "    d = dt.datetime(lyr,1,1) + dt.timedelta(days=idyjl)\n",
    "    fs = s3fs.S3FileSystem(anon=True) #connect to s3 bucket!\n",
    "\n",
    "    #create strings for the year and julian day\n",
    "    imon,idym=d.month,d.day\n",
    "    syr,sjdy,smon,sdym = str(lyr).zfill(4),str(idyjl).zfill(3),str(imon).zfill(2),str(idym).zfill(2)\n",
    "    s3_base = dir_base[sat]\n",
    "    #use glob to list all the files in the directory\n",
    "    if sat=='himawari':\n",
    "        file_location = fs.glob(s3_base + geo_product + '/'+syr+'/'+smon+'/'+sdym+'/*/*.nc')\n",
    "    else:\n",
    "        file_location = fs.glob(s3_base + geo_product + '/'+syr+'/'+sjdy+'/*/*.nc')\n",
    "    return file_location\n",
    "\n",
    "#get 1 day data\n",
    "def get_geo_data(file_location):\n",
    "    # arguments\n",
    "    # list of files to open\n",
    "    # returns data and whether it exists\n",
    "    \n",
    "    ds,exist = [],False\n",
    "    \n",
    "    #make a list of links to the file keys\n",
    "    fs = s3fs.S3FileSystem(anon=True) #connect to s3 bucket!\n",
    "    if len(file_location)<1:\n",
    "        return \n",
    "    file_ob = [fs.open(file) for file in file_location]        #open connection to files\n",
    "   \n",
    "    #open all the day's data\n",
    "    with xr.open_mfdataset(file_ob,combine='nested',concat_dim='time') as ds:      \n",
    "        if 'himawari' not in files[0]:\n",
    "            ds = ds.rename({'t':'time'})\n",
    "            ds = ds.reset_coords()\n",
    "        else:\n",
    "            ds = ds.rename({'ni':'x','nj':'y'})  \n",
    "    return ds\n"
   ]
  },
  {
   "cell_type": "markdown",
   "metadata": {},
   "source": [
    "## This code creates a drop down menu to select a satellite "
   ]
  },
  {
   "cell_type": "code",
   "execution_count": null,
   "metadata": {},
   "outputs": [],
   "source": [
    "def callback(target, event):\n",
    "    var = prod_select(event.new)\n",
    "    select_product.options=var\n",
    "    return var\n",
    "\n",
    "select_product =  pn.widgets.Select(name='Product ID')\n",
    "select_satellite = pn.widgets.Select(name='Satellite', options= ['goes-east','goes-west','himawari'])\n",
    "select_satellite.link(select_product, callbacks={'value': callback})\n",
    "\n",
    "pn.Row(select_satellite, select_product)"
   ]
  },
  {
   "cell_type": "markdown",
   "metadata": {},
   "source": [
    "- For a first test, we suggest you set the dropdown menus above to 'goes-west' and 'ABI-L2-SSTF'"
   ]
  },
  {
   "cell_type": "code",
   "execution_count": null,
   "metadata": {},
   "outputs": [],
   "source": [
    "lyr,idyjl=2020,215\n",
    "files = get_geo_filenames(select_satellite.value,select_product.value,lyr,idyjl)\n",
    "print('Number of files:', len(files))\n",
    "[print(file) for file in files[0:5]]"
   ]
  },
  {
   "cell_type": "markdown",
   "metadata": {},
   "source": [
    "## OPTIONAL: You may want to filter filenames to only the data you require\n",
    " - for example Himawari clouds you many only want the MASK\n",
    " - for Himawari SST you may only want L2 rather than L3"
   ]
  },
  {
   "cell_type": "code",
   "execution_count": null,
   "metadata": {},
   "outputs": [],
   "source": [
    "#files = [s for s in files if \"MASK\" in s]  #only retain files with 'MASK' in them\n",
    "\n",
    "files = [s for s in files if \"L2P\" in s]  #only retain files with 'L2P' in them\n",
    "\n",
    "[print(file) for file in files[0:5]]"
   ]
  },
  {
   "cell_type": "markdown",
   "metadata": {},
   "source": [
    "## Read in data"
   ]
  },
  {
   "cell_type": "code",
   "execution_count": null,
   "metadata": {},
   "outputs": [],
   "source": [
    "ds = get_geo_data(files)\n",
    "ds"
   ]
  },
  {
   "cell_type": "code",
   "execution_count": null,
   "metadata": {},
   "outputs": [],
   "source": []
  }
 ],
 "metadata": {
  "kernelspec": {
   "display_name": "Python 3",
   "language": "python",
   "name": "python3"
  },
  "language_info": {
   "codemirror_mode": {
    "name": "ipython",
    "version": 3
   },
   "file_extension": ".py",
   "mimetype": "text/x-python",
   "name": "python",
   "nbconvert_exporter": "python",
   "pygments_lexer": "ipython3",
   "version": "3.8.5"
  }
 },
 "nbformat": 4,
 "nbformat_minor": 4
}
